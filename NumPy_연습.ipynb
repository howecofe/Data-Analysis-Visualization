{
  "nbformat": 4,
  "nbformat_minor": 0,
  "metadata": {
    "kernelspec": {
      "display_name": "Python 3",
      "language": "python",
      "name": "python3"
    },
    "language_info": {
      "codemirror_mode": {
        "name": "ipython",
        "version": 3
      },
      "file_extension": ".py",
      "mimetype": "text/x-python",
      "name": "python",
      "nbconvert_exporter": "python",
      "pygments_lexer": "ipython3",
      "version": "3.7.4"
    },
    "colab": {
      "name": "Jiyun Lee - [과제] NumPy.ipynb",
      "provenance": [],
      "collapsed_sections": []
    }
  },
  "cells": [
    {
      "cell_type": "code",
      "metadata": {
        "id": "ndAixUbaamn2"
      },
      "source": [
        "import numpy as np"
      ],
      "execution_count": null,
      "outputs": []
    },
    {
      "cell_type": "code",
      "metadata": {
        "id": "4l4E56ptamoJ",
        "colab": {
          "base_uri": "https://localhost:8080/",
          "height": 335
        },
        "outputId": "cc10cc99-fe0b-4d2a-e7cd-93de43de4a4b"
      },
      "source": [
        "# 모두 0으로 채운 3 x 3 배열 a 생성 \n",
        "a = np.zeros((3, 3))\n",
        "print(a)\n",
        "\n",
        "# 모두 1로 채운 2 x 3 배열 b 생성\n",
        "b = np.ones((2, 3))\n",
        "print(b)\n",
        "\n",
        "# 5로 채운 2 x 3 x 3 배열 c 생성\n",
        "c = np.full((2, 3, 3), 5)\n",
        "print(c)\n",
        "\n",
        "# 5 x 5 단위 행렬 d 생성\n",
        "d = np.eye(5)\n",
        "print(d)"
      ],
      "execution_count": null,
      "outputs": [
        {
          "output_type": "stream",
          "text": [
            "[[0. 0. 0.]\n",
            " [0. 0. 0.]\n",
            " [0. 0. 0.]]\n",
            "[[1. 1. 1.]\n",
            " [1. 1. 1.]]\n",
            "[[[5 5 5]\n",
            "  [5 5 5]\n",
            "  [5 5 5]]\n",
            "\n",
            " [[5 5 5]\n",
            "  [5 5 5]\n",
            "  [5 5 5]]]\n",
            "[[1. 0. 0. 0. 0.]\n",
            " [0. 1. 0. 0. 0.]\n",
            " [0. 0. 1. 0. 0.]\n",
            " [0. 0. 0. 1. 0.]\n",
            " [0. 0. 0. 0. 1.]]\n"
          ],
          "name": "stdout"
        }
      ]
    },
    {
      "cell_type": "code",
      "metadata": {
        "id": "JkG3QD3SamoX",
        "colab": {
          "base_uri": "https://localhost:8080/",
          "height": 92
        },
        "outputId": "fbe6cdd5-484d-4c1d-d110-aad4475ed2f4"
      },
      "source": [
        "# range, reshape 함수를 사용하여 1~20 의 정수로 4 x 5 배열 arr 생성\n",
        "arr = np.arange(1, 21).reshape(4, 5)\n",
        "print(arr)"
      ],
      "execution_count": null,
      "outputs": [
        {
          "output_type": "stream",
          "text": [
            "[[ 1  2  3  4  5]\n",
            " [ 6  7  8  9 10]\n",
            " [11 12 13 14 15]\n",
            " [16 17 18 19 20]]\n"
          ],
          "name": "stdout"
        }
      ]
    },
    {
      "cell_type": "code",
      "metadata": {
        "id": "aJF1k4pFamoj",
        "colab": {
          "base_uri": "https://localhost:8080/",
          "height": 36
        },
        "outputId": "2795cc3d-c9b0-4aa7-c935-b58234d66b81"
      },
      "source": [
        "# 불린 인덱스를 이용하여 arr 배열의 대각선 '\\' 상의 요소 선택\n",
        "bi = np.array([[True, False, False, False, False],\n",
        "               [False, True, False, False, False],\n",
        "               [False, False, True, False, False],\n",
        "               [False, False, False, True, False]])\n",
        "print(arr[bi])"
      ],
      "execution_count": null,
      "outputs": [
        {
          "output_type": "stream",
          "text": [
            "[ 1  7 13 19]\n"
          ],
          "name": "stdout"
        }
      ]
    },
    {
      "cell_type": "code",
      "metadata": {
        "id": "xUUWXjVJamon",
        "colab": {
          "base_uri": "https://localhost:8080/",
          "height": 129
        },
        "outputId": "1c7174c3-f77d-4c56-da47-219044d39dce"
      },
      "source": [
        "# arr 배열의 인덱스가 짝수인 요소만 조회 (불린 인덱스와 조건식을 조합)\n",
        "print(arr)\n",
        "row_idx = np.array([True, False, True, False])\n",
        "print(arr[row_idx, ::2])"
      ],
      "execution_count": null,
      "outputs": [
        {
          "output_type": "stream",
          "text": [
            "[[ 1  2  3  4  5]\n",
            " [ 6  7  8  9 10]\n",
            " [11 12 13 14 15]\n",
            " [16 17 18 19 20]]\n",
            "[[ 1  3  5]\n",
            " [11 13 15]]\n"
          ],
          "name": "stdout"
        }
      ]
    },
    {
      "cell_type": "markdown",
      "metadata": {
        "id": "a4GOfQ9_amot"
      },
      "source": [
        "# 배열 간 연산"
      ]
    },
    {
      "cell_type": "code",
      "metadata": {
        "id": "y1oA3fGCamou",
        "colab": {
          "base_uri": "https://localhost:8080/",
          "height": 167
        },
        "outputId": "64476535-01d2-4ac9-9ab5-059776441ae8"
      },
      "source": [
        "m1 = np.array([\n",
        "    [1,2],\n",
        "    [3,4]\n",
        "])\n",
        "m2 = np.array([\n",
        "    [5,6],\n",
        "    [7,8]\n",
        "])\n",
        "\n",
        "# m1, m2 배열의 각 요소 간 합, 차, 곱 그리고 행렬곱을 구하기\n",
        "print(m1 + m2)\n",
        "print(m1 - m2)\n",
        "print(m1 * m2)\n",
        "print(np.matmul(m1, m2))"
      ],
      "execution_count": null,
      "outputs": [
        {
          "output_type": "stream",
          "text": [
            "[[ 6  8]\n",
            " [10 12]]\n",
            "[[-4 -4]\n",
            " [-4 -4]]\n",
            "[[ 5 12]\n",
            " [21 32]]\n",
            "[[19 22]\n",
            " [43 50]]\n"
          ],
          "name": "stdout"
        }
      ]
    },
    {
      "cell_type": "code",
      "metadata": {
        "id": "-NRPVzJrampI",
        "colab": {
          "base_uri": "https://localhost:8080/",
          "height": 36
        },
        "outputId": "6bcb9679-07a3-4300-a285-c24d87bbc106"
      },
      "source": [
        "# arr 배열의 컬럼(열)별 합계\n",
        "print(np.sum(arr, axis=0))"
      ],
      "execution_count": null,
      "outputs": [
        {
          "output_type": "stream",
          "text": [
            "[34 38 42 46 50]\n"
          ],
          "name": "stdout"
        }
      ]
    },
    {
      "cell_type": "code",
      "metadata": {
        "id": "sE2CmNvlampJ",
        "colab": {
          "base_uri": "https://localhost:8080/",
          "height": 36
        },
        "outputId": "0e5fa7a3-2ea2-4886-c6cc-c305315190e2"
      },
      "source": [
        "# arr 배열의 행별 평균\n",
        "print(np.mean(arr, axis=1))"
      ],
      "execution_count": null,
      "outputs": [
        {
          "output_type": "stream",
          "text": [
            "[ 3.  8. 13. 18.]\n"
          ],
          "name": "stdout"
        }
      ]
    },
    {
      "cell_type": "markdown",
      "metadata": {
        "id": "326PkC0nootr"
      },
      "source": [
        "## 구글 드라이브와 연동하여 파일을 불러오기 해 보겠습니다."
      ]
    },
    {
      "cell_type": "code",
      "metadata": {
        "id": "VQEUlGKFjoQ3",
        "colab": {
          "base_uri": "https://localhost:8080/",
          "height": 36
        },
        "outputId": "45bde48a-1963-43be-a8f4-172187b2a4d7"
      },
      "source": [
        "# 아래 코드를 실행하세요\n",
        "\n",
        "from google.colab import drive\n",
        "drive.mount('/content/gdrive')"
      ],
      "execution_count": null,
      "outputs": [
        {
          "output_type": "stream",
          "text": [
            "Drive already mounted at /content/gdrive; to attempt to forcibly remount, call drive.mount(\"/content/gdrive\", force_remount=True).\n"
          ],
          "name": "stdout"
        }
      ]
    },
    {
      "cell_type": "markdown",
      "metadata": {
        "id": "YwshIiIPpSTS"
      },
      "source": [
        "다음과 같은 실행 결과가 나오면 URL을 클릭하세요.\n",
        "\n",
        "그럼 아래와 같은 페이지가 뜰거에요.\n",
        "\n",
        "![alt text](https://t1.daumcdn.net/cfile/tistory/99AE13495BECEC180F)\n",
        "\n",
        "\n",
        "[허용] 버튼을 클릭하시면 인증 코드가 나와요. 코드를 복사하셔서 authorization code: 영역에 붙여 넣기 하시면 됩니다.\n",
        "\n",
        "이제부터는 /content/gdrive/My Drive/Colab Notebooks/data/ 경로에 업로드한 파일을 colab에서 불러와서 사용할 수 있습니다.\n",
        "\n",
        "(data 폴더는 따로 만들었어요. 여기에 외부 데이터 파일을 모아 두세요.)\n",
        "\n",
        "\n"
      ]
    },
    {
      "cell_type": "code",
      "metadata": {
        "id": "Qfq6WmOzn9KE",
        "colab": {
          "base_uri": "https://localhost:8080/",
          "height": 951
        },
        "outputId": "fdac2b7b-2709-4b71-897c-839f889937c4"
      },
      "source": [
        "# 아래 코드를 실행하여 cars 데이터셋을 불러오기 하세요.\n",
        "\n",
        "dat = np.genfromtxt(\"/content/gdrive/My Drive/Colab Notebooks/data/cars.txt\", skip_header=True)\n",
        "dat"
      ],
      "execution_count": null,
      "outputs": [
        {
          "output_type": "execute_result",
          "data": {
            "text/plain": [
              "array([[  4.,   2.],\n",
              "       [  4.,  10.],\n",
              "       [  7.,   4.],\n",
              "       [  7.,  22.],\n",
              "       [  8.,  16.],\n",
              "       [  9.,  10.],\n",
              "       [ 10.,  18.],\n",
              "       [ 10.,  26.],\n",
              "       [ 10.,  34.],\n",
              "       [ 11.,  17.],\n",
              "       [ 11.,  28.],\n",
              "       [ 12.,  14.],\n",
              "       [ 12.,  20.],\n",
              "       [ 12.,  24.],\n",
              "       [ 12.,  28.],\n",
              "       [ 13.,  26.],\n",
              "       [ 13.,  34.],\n",
              "       [ 13.,  34.],\n",
              "       [ 13.,  46.],\n",
              "       [ 14.,  26.],\n",
              "       [ 14.,  36.],\n",
              "       [ 14.,  60.],\n",
              "       [ 14.,  80.],\n",
              "       [ 15.,  20.],\n",
              "       [ 15.,  26.],\n",
              "       [ 15.,  54.],\n",
              "       [ 16.,  32.],\n",
              "       [ 16.,  40.],\n",
              "       [ 17.,  32.],\n",
              "       [ 17.,  40.],\n",
              "       [ 17.,  50.],\n",
              "       [ 18.,  42.],\n",
              "       [ 18.,  56.],\n",
              "       [ 18.,  76.],\n",
              "       [ 18.,  84.],\n",
              "       [ 19.,  36.],\n",
              "       [ 19.,  46.],\n",
              "       [ 19.,  68.],\n",
              "       [ 20.,  32.],\n",
              "       [ 20.,  48.],\n",
              "       [ 20.,  52.],\n",
              "       [ 20.,  56.],\n",
              "       [ 20.,  64.],\n",
              "       [ 22.,  66.],\n",
              "       [ 23.,  54.],\n",
              "       [ 24.,  70.],\n",
              "       [ 24.,  92.],\n",
              "       [ 24.,  93.],\n",
              "       [ 24., 120.],\n",
              "       [ 25.,  85.]])"
            ]
          },
          "metadata": {
            "tags": []
          },
          "execution_count": 46
        }
      ]
    },
    {
      "cell_type": "code",
      "metadata": {
        "id": "oDVL5-Koq0j4",
        "colab": {
          "base_uri": "https://localhost:8080/",
          "height": 73
        },
        "outputId": "6505aafc-c690-4a0b-8d24-128238063dd7"
      },
      "source": [
        "# dat 데이터에서 첫번째열은 speed, 두번째열은 dist입니다. speed 데이터만 추출하여 speed 변수에 저장하세요.\n",
        "speed = dat[:, 0]\n",
        "print(speed)"
      ],
      "execution_count": null,
      "outputs": [
        {
          "output_type": "stream",
          "text": [
            "[ 4.  4.  7.  7.  8.  9. 10. 10. 10. 11. 11. 12. 12. 12. 12. 13. 13. 13.\n",
            " 13. 14. 14. 14. 14. 15. 15. 15. 16. 16. 17. 17. 17. 18. 18. 18. 18. 19.\n",
            " 19. 19. 20. 20. 20. 20. 20. 22. 23. 24. 24. 24. 24. 25.]\n"
          ],
          "name": "stdout"
        }
      ]
    },
    {
      "cell_type": "code",
      "metadata": {
        "id": "6Y19abQWampS",
        "colab": {
          "base_uri": "https://localhost:8080/",
          "height": 55
        },
        "outputId": "03ad4e07-7377-45a6-dbfe-37003522f4cb"
      },
      "source": [
        "# speed 의 평균, 분산을 구하세요.\n",
        "print(\"평균:\", np.mean(speed))\n",
        "print(\"분산:\", np.var(speed))"
      ],
      "execution_count": null,
      "outputs": [
        {
          "output_type": "stream",
          "text": [
            "평균: 15.4\n",
            "분산: 27.4\n"
          ],
          "name": "stdout"
        }
      ]
    }
  ]
}